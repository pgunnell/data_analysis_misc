{
 "cells": [
  {
   "cell_type": "code",
   "execution_count": 1,
   "metadata": {},
   "outputs": [],
   "source": [
    "import numpy as np # linear algebra\n",
    "import pandas as pd # data processing, CSV file I/O (e.g. pd.read_csv)\n",
    "\n",
    "# Input data files are available in the \"../input/\" directory.\n",
    "# For example, running this (by clicking run or pressing Shift+Enter) will list all files under the input directory\n",
    "\n",
    "import os"
   ]
  },
  {
   "cell_type": "code",
   "execution_count": 2,
   "metadata": {},
   "outputs": [
    {
     "name": "stdout",
     "output_type": "stream",
     "text": [
      "        date     location  new_cases  new_deaths  total_cases  total_deaths\n",
      "0 2019-12-31  Afghanistan          0           0            0             0\n",
      "1 2020-01-01  Afghanistan          0           0            0             0\n"
     ]
    }
   ],
   "source": [
    "import pandas as pd\n",
    "import sklearn\n",
    "\n",
    "from statsmodels.tsa.seasonal import seasonal_decompose\n",
    "from dateutil.parser import parse\n",
    "\n",
    "data = pd.read_csv('/Users/gunnep/Downloads/corona_full_data.csv', parse_dates=['date'], index_col='date')\n",
    "data.reset_index(inplace=True)\n",
    "\n",
    "print(data.head(2))\n"
   ]
  },
  {
   "cell_type": "code",
   "execution_count": 22,
   "metadata": {},
   "outputs": [],
   "source": [
    "Italy = pd.DataFrame(data[data['location']=='Italy'])"
   ]
  },
  {
   "cell_type": "code",
   "execution_count": 4,
   "metadata": {},
   "outputs": [],
   "source": [
    "Germany = pd.DataFrame(data[data['location']=='Germany'])"
   ]
  },
  {
   "cell_type": "code",
   "execution_count": 30,
   "metadata": {},
   "outputs": [
    {
     "name": "stdout",
     "output_type": "stream",
     "text": [
      "           date location  new_cases  new_deaths  total_cases  total_deaths\n",
      "2993 2019-12-31    Italy          0           0            0             0\n",
      "2994 2020-01-01    Italy          0           0            0             0\n",
      "2995 2020-01-02    Italy          0           0            0             0\n",
      "2996 2020-01-03    Italy          0           0            0             0\n",
      "2997 2020-01-04    Italy          0           0            0             0\n",
      "...         ...      ...        ...         ...          ...           ...\n",
      "3071 2020-03-18    Italy       3526         347        31506          2505\n",
      "3072 2020-03-19    Italy       4207         473        35713          2978\n",
      "3073 2020-03-20    Italy       5322         429        41035          3407\n",
      "3074 2020-03-21    Italy       5986         625        47021          4032\n",
      "3075 2020-03-22    Italy       6557         795        53578          4827\n",
      "\n",
      "[83 rows x 6 columns]\n"
     ]
    }
   ],
   "source": [
    "print(Italy)"
   ]
  },
  {
   "cell_type": "code",
   "execution_count": 5,
   "metadata": {},
   "outputs": [],
   "source": [
    "China = pd.DataFrame(data[data['location']=='China'])"
   ]
  },
  {
   "cell_type": "code",
   "execution_count": 6,
   "metadata": {},
   "outputs": [],
   "source": [
    "Korea = pd.DataFrame(data[data['location']=='South Korea'])"
   ]
  },
  {
   "cell_type": "code",
   "execution_count": 8,
   "metadata": {},
   "outputs": [
    {
     "data": {
      "text/plain": [
       "[<matplotlib.lines.Line2D at 0x1c22473c50>]"
      ]
     },
     "execution_count": 8,
     "metadata": {},
     "output_type": "execute_result"
    },
    {
     "data": {
      "image/png": "[encoded data removed]",
      "text/plain": [
       "<Figure size 432x288 with 1 Axes>"
      ]
     },
     "metadata": {
      "needs_background": "light"
     },
     "output_type": "display_data"
    }
   ],
   "source": [
    "import matplotlib.pyplot as plt\n",
    "\n",
    "from pandas.plotting import register_matplotlib_converters\n",
    "register_matplotlib_converters()\n",
    "\n",
    "plt.plot(Italy['date'],Italy['total_cases'], color='k',marker='o')\n",
    "plt.plot(Germany['date'],Germany['total_cases'], color='r',marker='X')\n",
    "plt.plot(China['date'],China['total_cases'], color='b',marker='*')\n",
    "plt.plot(Korea['date'],Korea['total_cases'], color='y')"
   ]
  },
  {
   "cell_type": "code",
   "execution_count": 33,
   "metadata": {},
   "outputs": [
    {
     "name": "stdout",
     "output_type": "stream",
     "text": [
      "[ 2.62873877e-01  1.47710487e-01 -2.60858575e+02]\n",
      "[[ 1.56518006e-03 -7.36112823e-05 -1.47306937e+00]\n",
      " [-7.36112823e-05  3.46779480e-06  6.71313673e-02]\n",
      " [-1.47306937e+00  6.71313673e-02  6.75030369e+03]]\n"
     ]
    }
   ],
   "source": [
    "#Let's try to fit the two curves\n",
    "from scipy import optimize\n",
    "\n",
    "def exp_func(x, a, b, c):\n",
    "    return a * np.exp(b * x) + c\n",
    "\n",
    "x_data = np.linspace(0, len(Italy), num=len(Italy))\n",
    "\n",
    "params_exp, params_covariance_exp = optimize.curve_fit(exp_func, x_data,Italy['total_cases'],\n",
    "                                               p0=[0.1, 0.1, 0.1])\n",
    "\n",
    "print(params_exp)\n",
    "print(params_covariance_exp)"
   ]
  },
  {
   "cell_type": "code",
   "execution_count": 34,
   "metadata": {},
   "outputs": [
    {
     "name": "stdout",
     "output_type": "stream",
     "text": [
      "[ 1.26862303e+05 -8.47454827e+01 -1.90445958e-01]\n",
      "[[ 6.80475710e+07 -4.81156711e+03  2.84429633e+01]\n",
      " [-4.81156711e+03  3.42514179e-01 -2.06719092e-03]\n",
      " [ 2.84429633e+01 -2.06719092e-03  1.38212316e-05]]\n"
     ]
    },
    {
     "name": "stderr",
     "output_type": "stream",
     "text": [
      "/Users/gunnep/opt/anaconda3/lib/python3.7/site-packages/ipykernel_launcher.py:2: RuntimeWarning: overflow encountered in exp\n",
      "  \n"
     ]
    }
   ],
   "source": [
    "def log_func(x, a, b, c):\n",
    "    return a / (1 + np.exp(c*(x + b)))\n",
    "\n",
    "params_log, params_covariance_log = optimize.curve_fit(log_func, x_data,Italy['total_cases'],\n",
    "                                               p0=[0.1, 0.1, 0.1])\n",
    "\n",
    "print(params_log)\n",
    "print(params_covariance_log)"
   ]
  },
  {
   "cell_type": "code",
   "execution_count": 35,
   "metadata": {},
   "outputs": [
    {
     "data": {
      "text/plain": [
       "<matplotlib.legend.Legend at 0x1c22e14910>"
      ]
     },
     "execution_count": 35,
     "metadata": {},
     "output_type": "execute_result"
    },
    {
     "data": {
      "image/png": "[encoded data removed]",
      "text/plain": [
       "<Figure size 432x288 with 1 Axes>"
      ]
     },
     "metadata": {
      "needs_background": "light"
     },
     "output_type": "display_data"
    }
   ],
   "source": [
    "plt.figure(figsize=(6, 4))\n",
    "plt.scatter(x_data, Italy['total_cases'], label='Data Italy')\n",
    "plt.plot(x_data, exp_func(x_data, params_exp[0], params_exp[1], params_exp[2]),\n",
    "         label='Fitted exp. function')\n",
    "\n",
    "plt.plot(x_data, log_func(x_data, params_log[0], params_log[1], params_log[2]),\n",
    "         label='Fitted log. function')\n",
    "\n",
    "plt.legend(loc='best')\n"
   ]
  },
  {
   "cell_type": "code",
   "execution_count": 36,
   "metadata": {},
   "outputs": [
    {
     "name": "stdout",
     "output_type": "stream",
     "text": [
      "8832.13977192725\n",
      "5951.627140830518\n"
     ]
    }
   ],
   "source": [
    "#predictions of the new day\n",
    "#Pessimistic\n",
    "print(exp_func(len(Italy)+1, params_exp[0], params_exp[1], params_exp[2])-exp_func(len(Italy), params_exp[0], params_exp[1], params_exp[2]))\n",
    "#Optimistic\n",
    "print(log_func(len(Italy)+1, params_log[0], params_log[1], params_log[2])-log_func(len(Italy), params_log[0], params_log[1], params_log[2]))"
   ]
  },
  {
   "cell_type": "code",
   "execution_count": 38,
   "metadata": {},
   "outputs": [
    {
     "data": {
      "text/plain": [
       "[<matplotlib.lines.Line2D at 0x1c23059a10>]"
      ]
     },
     "execution_count": 38,
     "metadata": {},
     "output_type": "execute_result"
    },
    {
     "data": {
      "image/png": "[encoded data removed]",
      "text/plain": [
       "<Figure size 432x288 with 1 Axes>"
      ]
     },
     "metadata": {
      "needs_background": "light"
     },
     "output_type": "display_data"
    }
   ],
   "source": [
    "#Plot of the future\n",
    "x_data = np.linspace(0, len(Italy)*1.1, num=len(Italy)*1.1)\n",
    "\n",
    "plt.plot(x_data, exp_func(x_data, params_exp[0], params_exp[1], params_exp[2]),\n",
    "         label='Fitted exp. function')\n",
    "\n",
    "x_data = np.linspace(0, len(Italy)*1.5, num=len(Italy)*1.5)\n",
    "\n",
    "plt.plot(x_data, log_func(x_data, params_log[0], params_log[1], params_log[2]),\n",
    "         label='Fitted log. function')"
   ]
  },
  {
   "cell_type": "code",
   "execution_count": 75,
   "metadata": {},
   "outputs": [
    {
     "data": {
      "text/plain": [
       "[<matplotlib.lines.Line2D at 0x1c2332d990>]"
      ]
     },
     "execution_count": 75,
     "metadata": {},
     "output_type": "execute_result"
    },
    {
     "data": {
      "image/png": "[encoded data removed]",
      "text/plain": [
       "<Figure size 432x288 with 1 Axes>"
      ]
     },
     "metadata": {
      "needs_background": "light"
     },
     "output_type": "display_data"
    }
   ],
   "source": [
    "#Analysis of new cases\n",
    "new_cases = []\n",
    "indices = list(Italy.index)\n",
    "\n",
    "for i in range(len(indices)-1):\n",
    "    new_cases.append(int(Italy.iloc[i+1]['total_cases'])-int(Italy.iloc[i]['total_cases']))\n",
    "        \n",
    "new_cases = np.asarray(new_cases)\n",
    "x_data = np.linspace(0, len(Italy)-1, num=len(Italy)-1)\n",
    "\n",
    "plt.plot(x_data, new_cases, \n",
    "         label='New cases', color='k',marker='o')"
   ]
  },
  {
   "cell_type": "code",
   "execution_count": 12,
   "metadata": {},
   "outputs": [],
   "source": [
    "def calculate_r2(y, y_fit):\n",
    "    # residual sum of squares\n",
    "    ss_res = np.sum((y - y_fit) ** 2)\n",
    "    \n",
    "    # total sum of squares\n",
    "    ss_tot = np.sum((y - np.mean(y)) ** 2)\n",
    "\n",
    "    # r-squared\n",
    "    r2 = 1 - (ss_res / ss_tot)\n",
    "\n",
    "    print(r2)"
   ]
  },
  {
   "cell_type": "code",
   "execution_count": 13,
   "metadata": {},
   "outputs": [
    {
     "name": "stdout",
     "output_type": "stream",
     "text": [
      "0.9969708143573154\n"
     ]
    }
   ],
   "source": [
    "calculate_r2(Italy['total_cases'],exp_func(x_data, params_exp[0], params_exp[1], params_exp[2]))"
   ]
  },
  {
   "cell_type": "code",
   "execution_count": 14,
   "metadata": {},
   "outputs": [
    {
     "name": "stdout",
     "output_type": "stream",
     "text": [
      "0.9988876938561271\n"
     ]
    }
   ],
   "source": [
    "calculate_r2(Italy['total_cases'],log_func(x_data, params_log[0], params_log[1], params_log[2]))"
   ]
  },
  {
   "cell_type": "code",
   "execution_count": 15,
   "metadata": {},
   "outputs": [],
   "source": [
    "def fit_and_plot(country, china_bool=False):\n",
    "\n",
    "    x_data = np.linspace(0, len(country), num=len(country))\n",
    "\n",
    "    params_exp = []\n",
    "\n",
    "    if(china_bool):\n",
    "        print(params_exp)\n",
    "    else:\n",
    "        params_exp, params_covariance_exp = optimize.curve_fit(exp_func, x_data,country['total_cases'],\n",
    "                                                       p0=[0.1, 0.1, 0.1])\n",
    "    \n",
    "    #print(params_exp)\n",
    "    #print(params_covariance_exp)\n",
    "    \n",
    "    params_log, params_covariance_log = optimize.curve_fit(log_func, x_data,country['total_cases'],\n",
    "                                               p0=[3.0, 0.1, 0.1])\n",
    "\n",
    "    #print(params_log)\n",
    "    #print(params_covariance_log)\n",
    "    \n",
    "    return params_exp,params_log,x_data"
   ]
  },
  {
   "cell_type": "code",
   "execution_count": 16,
   "metadata": {},
   "outputs": [
    {
     "name": "stderr",
     "output_type": "stream",
     "text": [
      "/Users/gunnep/opt/anaconda3/lib/python3.7/site-packages/scipy/optimize/minpack.py:795: OptimizeWarning: Covariance of the parameters could not be estimated\n",
      "  category=OptimizeWarning)\n"
     ]
    },
    {
     "data": {
      "text/plain": [
       "<matplotlib.legend.Legend at 0x1c22a7e8d0>"
      ]
     },
     "execution_count": 16,
     "metadata": {},
     "output_type": "execute_result"
    },
    {
     "data": {
      "image/png": "[encoded data removed]",
      "text/plain": [
       "<Figure size 432x288 with 1 Axes>"
      ]
     },
     "metadata": {
      "needs_background": "light"
     },
     "output_type": "display_data"
    }
   ],
   "source": [
    "params_exp,params_log,x_data = fit_and_plot(Germany)\n",
    "\n",
    "plt.figure(figsize=(6, 4))\n",
    "plt.scatter(x_data, Germany['total_cases'], label='Data Germany')\n",
    "plt.plot(x_data, exp_func(x_data, params_exp[0], params_exp[1], params_exp[2]),\n",
    "                 label='Fitted exp. function')\n",
    "\n",
    "plt.plot(x_data, log_func(x_data, params_log[0], params_log[1], params_log[2]),\n",
    "                 label='Fitted log. function')\n",
    "\n",
    "plt.legend(loc='best')"
   ]
  },
  {
   "cell_type": "code",
   "execution_count": 17,
   "metadata": {},
   "outputs": [
    {
     "name": "stdout",
     "output_type": "stream",
     "text": [
      "0.9933336552940492\n",
      "-2.220446049250313e-16\n"
     ]
    }
   ],
   "source": [
    "calculate_r2(Germany['total_cases'],exp_func(x_data, params_exp[0], params_exp[1], params_exp[2]))\n",
    "    \n",
    "calculate_r2(Germany['total_cases'],log_func(x_data, params_log[0], params_log[1], params_log[2]))"
   ]
  },
  {
   "cell_type": "code",
   "execution_count": 18,
   "metadata": {},
   "outputs": [
    {
     "name": "stdout",
     "output_type": "stream",
     "text": [
      "[]\n"
     ]
    },
    {
     "name": "stderr",
     "output_type": "stream",
     "text": [
      "/Users/gunnep/opt/anaconda3/lib/python3.7/site-packages/ipykernel_launcher.py:2: RuntimeWarning: overflow encountered in exp\n",
      "  \n"
     ]
    },
    {
     "data": {
      "text/plain": [
       "<matplotlib.legend.Legend at 0x1c22b79890>"
      ]
     },
     "execution_count": 18,
     "metadata": {},
     "output_type": "execute_result"
    },
    {
     "data": {
      "image/png": "[encoded data removed]",
      "text/plain": [
       "<Figure size 432x288 with 1 Axes>"
      ]
     },
     "metadata": {
      "needs_background": "light"
     },
     "output_type": "display_data"
    }
   ],
   "source": [
    "params_exp,params_log,x_data = fit_and_plot(China, True)\n",
    "\n",
    "plt.figure(figsize=(6, 4))\n",
    "plt.scatter(x_data, China['total_cases'], label='Data China')\n",
    "\n",
    "plt.plot(x_data, log_func(x_data, params_log[0], params_log[1], params_log[2]),\n",
    "                 label='Fitted log. function')\n",
    "\n",
    "plt.legend(loc='best')"
   ]
  },
  {
   "cell_type": "code",
   "execution_count": 19,
   "metadata": {},
   "outputs": [
    {
     "name": "stdout",
     "output_type": "stream",
     "text": [
      "0.9982729786107419\n"
     ]
    }
   ],
   "source": [
    "calculate_r2(China['total_cases'],log_func(x_data, params_log[0], params_log[1], params_log[2]))"
   ]
  },
  {
   "cell_type": "code",
   "execution_count": 20,
   "metadata": {},
   "outputs": [
    {
     "ename": "RuntimeError",
     "evalue": "Optimal parameters not found: Number of calls to function has reached maxfev = 800.",
     "output_type": "error",
     "traceback": [
      "\u001b[0;31m---------------------------------------------------------------------------\u001b[0m",
      "\u001b[0;31mRuntimeError\u001b[0m                              Traceback (most recent call last)",
      "\u001b[0;32m<ipython-input-20-b7aeb76f9341>\u001b[0m in \u001b[0;36m<module>\u001b[0;34m\u001b[0m\n\u001b[0;32m----> 1\u001b[0;31m \u001b[0mparams_exp\u001b[0m\u001b[0;34m,\u001b[0m\u001b[0mparams_log\u001b[0m\u001b[0;34m,\u001b[0m\u001b[0mx_data\u001b[0m \u001b[0;34m=\u001b[0m \u001b[0mfit_and_plot\u001b[0m\u001b[0;34m(\u001b[0m\u001b[0mKorea\u001b[0m\u001b[0;34m)\u001b[0m\u001b[0;34m\u001b[0m\u001b[0;34m\u001b[0m\u001b[0m\n\u001b[0m\u001b[1;32m      2\u001b[0m \u001b[0;34m\u001b[0m\u001b[0m\n\u001b[1;32m      3\u001b[0m \u001b[0mplt\u001b[0m\u001b[0;34m.\u001b[0m\u001b[0mfigure\u001b[0m\u001b[0;34m(\u001b[0m\u001b[0mfigsize\u001b[0m\u001b[0;34m=\u001b[0m\u001b[0;34m(\u001b[0m\u001b[0;36m6\u001b[0m\u001b[0;34m,\u001b[0m \u001b[0;36m4\u001b[0m\u001b[0;34m)\u001b[0m\u001b[0;34m)\u001b[0m\u001b[0;34m\u001b[0m\u001b[0;34m\u001b[0m\u001b[0m\n\u001b[1;32m      4\u001b[0m \u001b[0mplt\u001b[0m\u001b[0;34m.\u001b[0m\u001b[0mscatter\u001b[0m\u001b[0;34m(\u001b[0m\u001b[0mx_data\u001b[0m\u001b[0;34m,\u001b[0m \u001b[0mKorea\u001b[0m\u001b[0;34m[\u001b[0m\u001b[0;34m'total_cases'\u001b[0m\u001b[0;34m]\u001b[0m\u001b[0;34m,\u001b[0m \u001b[0mlabel\u001b[0m\u001b[0;34m=\u001b[0m\u001b[0;34m'Data Korea'\u001b[0m\u001b[0;34m)\u001b[0m\u001b[0;34m\u001b[0m\u001b[0;34m\u001b[0m\u001b[0m\n\u001b[1;32m      5\u001b[0m \u001b[0;34m\u001b[0m\u001b[0m\n",
      "\u001b[0;32m<ipython-input-15-9d483de1e6b8>\u001b[0m in \u001b[0;36mfit_and_plot\u001b[0;34m(country, china_bool)\u001b[0m\n\u001b[1;32m      9\u001b[0m     \u001b[0;32melse\u001b[0m\u001b[0;34m:\u001b[0m\u001b[0;34m\u001b[0m\u001b[0;34m\u001b[0m\u001b[0m\n\u001b[1;32m     10\u001b[0m         params_exp, params_covariance_exp = optimize.curve_fit(exp_func, x_data,country['total_cases'],\n\u001b[0;32m---> 11\u001b[0;31m                                                        p0=[0.1, 0.1, 0.1])\n\u001b[0m\u001b[1;32m     12\u001b[0m \u001b[0;34m\u001b[0m\u001b[0m\n\u001b[1;32m     13\u001b[0m     \u001b[0;31m#print(params_exp)\u001b[0m\u001b[0;34m\u001b[0m\u001b[0;34m\u001b[0m\u001b[0;34m\u001b[0m\u001b[0m\n",
      "\u001b[0;32m~/opt/anaconda3/lib/python3.7/site-packages/scipy/optimize/minpack.py\u001b[0m in \u001b[0;36mcurve_fit\u001b[0;34m(f, xdata, ydata, p0, sigma, absolute_sigma, check_finite, bounds, method, jac, **kwargs)\u001b[0m\n\u001b[1;32m    754\u001b[0m         \u001b[0mcost\u001b[0m \u001b[0;34m=\u001b[0m \u001b[0mnp\u001b[0m\u001b[0;34m.\u001b[0m\u001b[0msum\u001b[0m\u001b[0;34m(\u001b[0m\u001b[0minfodict\u001b[0m\u001b[0;34m[\u001b[0m\u001b[0;34m'fvec'\u001b[0m\u001b[0;34m]\u001b[0m \u001b[0;34m**\u001b[0m \u001b[0;36m2\u001b[0m\u001b[0;34m)\u001b[0m\u001b[0;34m\u001b[0m\u001b[0;34m\u001b[0m\u001b[0m\n\u001b[1;32m    755\u001b[0m         \u001b[0;32mif\u001b[0m \u001b[0mier\u001b[0m \u001b[0;32mnot\u001b[0m \u001b[0;32min\u001b[0m \u001b[0;34m[\u001b[0m\u001b[0;36m1\u001b[0m\u001b[0;34m,\u001b[0m \u001b[0;36m2\u001b[0m\u001b[0;34m,\u001b[0m \u001b[0;36m3\u001b[0m\u001b[0;34m,\u001b[0m \u001b[0;36m4\u001b[0m\u001b[0;34m]\u001b[0m\u001b[0;34m:\u001b[0m\u001b[0;34m\u001b[0m\u001b[0;34m\u001b[0m\u001b[0m\n\u001b[0;32m--> 756\u001b[0;31m             \u001b[0;32mraise\u001b[0m \u001b[0mRuntimeError\u001b[0m\u001b[0;34m(\u001b[0m\u001b[0;34m\"Optimal parameters not found: \"\u001b[0m \u001b[0;34m+\u001b[0m \u001b[0merrmsg\u001b[0m\u001b[0;34m)\u001b[0m\u001b[0;34m\u001b[0m\u001b[0;34m\u001b[0m\u001b[0m\n\u001b[0m\u001b[1;32m    757\u001b[0m     \u001b[0;32melse\u001b[0m\u001b[0;34m:\u001b[0m\u001b[0;34m\u001b[0m\u001b[0;34m\u001b[0m\u001b[0m\n\u001b[1;32m    758\u001b[0m         \u001b[0;31m# Rename maxfev (leastsq) to max_nfev (least_squares), if specified.\u001b[0m\u001b[0;34m\u001b[0m\u001b[0;34m\u001b[0m\u001b[0;34m\u001b[0m\u001b[0m\n",
      "\u001b[0;31mRuntimeError\u001b[0m: Optimal parameters not found: Number of calls to function has reached maxfev = 800."
     ]
    }
   ],
   "source": [
    "params_exp,params_log,x_data = fit_and_plot(Korea)\n",
    "\n",
    "plt.figure(figsize=(6, 4))\n",
    "plt.scatter(x_data, Korea['total_cases'], label='Data Korea')\n",
    "\n",
    "plt.plot(x_data, log_func(x_data, params_log[0], params_log[1], params_log[2]),\n",
    "                 label='Fitted log. function')\n",
    "\n",
    "plt.plot(x_data, exp_func(x_data, params_exp[0], params_exp[1], params_exp[2]),\n",
    "                 label='Fitted exp. function')\n",
    "\n",
    "plt.legend(loc='best')"
   ]
  },
  {
   "cell_type": "code",
   "execution_count": 186,
   "metadata": {},
   "outputs": [
    {
     "name": "stdout",
     "output_type": "stream",
     "text": [
      "0.9430237052146274\n",
      "0.9992102593697357\n"
     ]
    }
   ],
   "source": [
    "calculate_r2(Korea['total_cases'],exp_func(x_data, params_exp[0], params_exp[1], params_exp[2]))\n",
    "    \n",
    "calculate_r2(Korea['total_cases'],log_func(x_data, params_log[0], params_log[1], params_log[2]))"
   ]
  },
  {
   "cell_type": "code",
   "execution_count": null,
   "metadata": {},
   "outputs": [],
   "source": []
  }
 ],
 "metadata": {
  "kernelspec": {
   "display_name": "Python 3",
   "language": "python",
   "name": "python3"
  },
  "language_info": {
   "codemirror_mode": {
    "name": "ipython",
    "version": 3
   },
   "file_extension": ".py",
   "mimetype": "text/x-python",
   "name": "python",
   "nbconvert_exporter": "python",
   "pygments_lexer": "ipython3",
   "version": "3.7.4"
  }
 },
 "nbformat": 4,
 "nbformat_minor": 2
}
