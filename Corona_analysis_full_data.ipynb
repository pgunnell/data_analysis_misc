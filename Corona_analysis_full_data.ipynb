{
 "cells": [
  {
   "cell_type": "code",
   "execution_count": 70,
   "metadata": {},
   "outputs": [],
   "source": [
    "import numpy as np # linear algebra\n",
    "import pandas as pd # data processing, CSV file I/O (e.g. pd.read_csv)\n",
    "\n",
    "# Input data files are available in the \"../input/\" directory.\n",
    "# For example, running this (by clicking run or pressing Shift+Enter) will list all files under the input directory\n",
    "\n",
    "import os"
   ]
  },
  {
   "cell_type": "code",
   "execution_count": 71,
   "metadata": {},
   "outputs": [
    {
     "name": "stdout",
     "output_type": "stream",
     "text": [
      "        date     location  new_cases  new_deaths  total_cases  total_deaths\n",
      "0 2019-12-31  Afghanistan          0           0            0             0\n",
      "1 2020-01-01  Afghanistan          0           0            0             0\n"
     ]
    }
   ],
   "source": [
    "import pandas as pd\n",
    "import sklearn\n",
    "\n",
    "from statsmodels.tsa.seasonal import seasonal_decompose\n",
    "from dateutil.parser import parse\n",
    "\n",
    "data = pd.read_csv('/Users/gunnep/Downloads/corona_full_data.csv', parse_dates=['date'], index_col='date')\n",
    "data.reset_index(inplace=True)\n",
    "\n",
    "print(data.head(2))\n"
   ]
  },
  {
   "cell_type": "code",
   "execution_count": 72,
   "metadata": {},
   "outputs": [],
   "source": [
    "Italy = pd.DataFrame(data[data['location']=='Italy'])"
   ]
  },
  {
   "cell_type": "code",
   "execution_count": 73,
   "metadata": {},
   "outputs": [],
   "source": [
    "Germany = pd.DataFrame(data[data['location']=='Germany'])"
   ]
  },
  {
   "cell_type": "code",
   "execution_count": 74,
   "metadata": {},
   "outputs": [
    {
     "name": "stdout",
     "output_type": "stream",
     "text": [
      "           date location  new_cases  new_deaths  total_cases  total_deaths\n",
      "2993 2019-12-31    Italy          0           0            0             0\n",
      "2994 2020-01-01    Italy          0           0            0             0\n",
      "2995 2020-01-02    Italy          0           0            0             0\n",
      "2996 2020-01-03    Italy          0           0            0             0\n",
      "2997 2020-01-04    Italy          0           0            0             0\n",
      "...         ...      ...        ...         ...          ...           ...\n",
      "3071 2020-03-18    Italy       3526         347        31506          2505\n",
      "3072 2020-03-19    Italy       4207         473        35713          2978\n",
      "3073 2020-03-20    Italy       5322         429        41035          3407\n",
      "3074 2020-03-21    Italy       5986         625        47021          4032\n",
      "3075 2020-03-22    Italy       6557         795        53578          4827\n",
      "\n",
      "[83 rows x 6 columns]\n"
     ]
    }
   ],
   "source": [
    "print(Italy)"
   ]
  },
  {
   "cell_type": "code",
   "execution_count": 75,
   "metadata": {},
   "outputs": [],
   "source": [
    "China = pd.DataFrame(data[data['location']=='China'])"
   ]
  },
  {
   "cell_type": "code",
   "execution_count": 76,
   "metadata": {},
   "outputs": [],
   "source": [
    "Korea = pd.DataFrame(data[data['location']=='South Korea'])"
   ]
  },
  {
   "cell_type": "code",
   "execution_count": 77,
   "metadata": {},
   "outputs": [
    {
     "data": {
      "text/plain": [
       "[<matplotlib.lines.Line2D at 0x1c518cdc50>]"
      ]
     },
     "execution_count": 77,
     "metadata": {},
     "output_type": "execute_result"
    },
    {
     "data": {
      "image/png": "[encoded data removed]",
      "text/plain": [
       "<Figure size 432x288 with 1 Axes>"
      ]
     },
     "metadata": {
      "needs_background": "light"
     },
     "output_type": "display_data"
    }
   ],
   "source": [
    "import matplotlib.pyplot as plt\n",
    "\n",
    "from pandas.plotting import register_matplotlib_converters\n",
    "register_matplotlib_converters()\n",
    "\n",
    "plt.plot(Italy['date'],Italy['total_cases'], color='k',marker='o')\n",
    "plt.plot(Germany['date'],Germany['total_cases'], color='r',marker='X')\n",
    "plt.plot(China['date'],China['total_cases'], color='b',marker='*')\n",
    "plt.plot(Korea['date'],Korea['total_cases'], color='y')"
   ]
  },
  {
   "cell_type": "code",
   "execution_count": 78,
   "metadata": {},
   "outputs": [
    {
     "name": "stdout",
     "output_type": "stream",
     "text": [
      "[ 2.62873877e-01  1.47710487e-01 -2.60858575e+02]\n",
      "[[ 1.56518006e-03 -7.36112823e-05 -1.47306937e+00]\n",
      " [-7.36112823e-05  3.46779480e-06  6.71313673e-02]\n",
      " [-1.47306937e+00  6.71313673e-02  6.75030369e+03]]\n"
     ]
    }
   ],
   "source": [
    "#Let's try to fit the two curves\n",
    "from scipy import optimize\n",
    "\n",
    "def exp_func(x, a, b, c):\n",
    "    return a * np.exp(b * x) + c\n",
    "\n",
    "x_data = np.linspace(0, len(Italy), num=len(Italy))\n",
    "\n",
    "params_exp, params_covariance_exp = optimize.curve_fit(exp_func, x_data,Italy['total_cases'],\n",
    "                                               p0=[0.1, 0.1, 0.1])\n",
    "\n",
    "print(params_exp)\n",
    "print(params_covariance_exp)"
   ]
  },
  {
   "cell_type": "code",
   "execution_count": 79,
   "metadata": {},
   "outputs": [
    {
     "name": "stdout",
     "output_type": "stream",
     "text": [
      "[ 1.26862303e+05 -8.47454827e+01 -1.90445958e-01]\n",
      "[[ 6.80475710e+07 -4.81156711e+03  2.84429633e+01]\n",
      " [-4.81156711e+03  3.42514179e-01 -2.06719092e-03]\n",
      " [ 2.84429633e+01 -2.06719092e-03  1.38212316e-05]]\n"
     ]
    },
    {
     "name": "stderr",
     "output_type": "stream",
     "text": [
      "/Users/gunnep/opt/anaconda3/lib/python3.7/site-packages/ipykernel_launcher.py:2: RuntimeWarning: overflow encountered in exp\n",
      "  \n"
     ]
    }
   ],
   "source": [
    "def log_func(x, a, b, c):\n",
    "    return a / (1 + np.exp(c*(x + b)))\n",
    "\n",
    "params_log, params_covariance_log = optimize.curve_fit(log_func, x_data,Italy['total_cases'],\n",
    "                                               p0=[0.1, 0.1, 0.1])\n",
    "\n",
    "print(params_log)\n",
    "print(params_covariance_log)"
   ]
  },
  {
   "cell_type": "code",
   "execution_count": 80,
   "metadata": {},
   "outputs": [
    {
     "data": {
      "text/plain": [
       "<matplotlib.legend.Legend at 0x1c51638350>"
      ]
     },
     "execution_count": 80,
     "metadata": {},
     "output_type": "execute_result"
    },
    {
     "data": {
      "image/png": "[encoded data removed]",
      "text/plain": [
       "<Figure size 432x288 with 1 Axes>"
      ]
     },
     "metadata": {
      "needs_background": "light"
     },
     "output_type": "display_data"
    }
   ],
   "source": [
    "plt.figure(figsize=(6, 4))\n",
    "plt.scatter(x_data, Italy['total_cases'], label='Data Italy')\n",
    "plt.plot(x_data, exp_func(x_data, params_exp[0], params_exp[1], params_exp[2]),\n",
    "         label='Fitted exp. function')\n",
    "\n",
    "plt.plot(x_data, log_func(x_data, params_log[0], params_log[1], params_log[2]),\n",
    "         label='Fitted log. function')\n",
    "\n",
    "plt.legend(loc='best')\n"
   ]
  },
  {
   "cell_type": "code",
   "execution_count": 81,
   "metadata": {},
   "outputs": [
    {
     "name": "stdout",
     "output_type": "stream",
     "text": [
      "8832.13977192725\n",
      "5951.627140830518\n"
     ]
    }
   ],
   "source": [
    "#predictions of the new day\n",
    "#Pessimistic\n",
    "print(exp_func(len(Italy)+1, params_exp[0], params_exp[1], params_exp[2])-exp_func(len(Italy), params_exp[0], params_exp[1], params_exp[2]))\n",
    "#Optimistic\n",
    "print(log_func(len(Italy)+1, params_log[0], params_log[1], params_log[2])-log_func(len(Italy), params_log[0], params_log[1], params_log[2]))"
   ]
  },
  {
   "cell_type": "code",
   "execution_count": 82,
   "metadata": {},
   "outputs": [
    {
     "data": {
      "text/plain": [
       "<matplotlib.legend.Legend at 0x1c4c021090>"
      ]
     },
     "execution_count": 82,
     "metadata": {},
     "output_type": "execute_result"
    },
    {
     "data": {
      "image/png": "[encoded data removed]",
      "text/plain": [
       "<Figure size 432x288 with 1 Axes>"
      ]
     },
     "metadata": {
      "needs_background": "light"
     },
     "output_type": "display_data"
    }
   ],
   "source": [
    "#Plot of the future\n",
    "x_data = np.linspace(0, len(Italy)*1.1, num=len(Italy)*1.1)\n",
    "\n",
    "plt.plot(x_data, exp_func(x_data, params_exp[0], params_exp[1], params_exp[2]),\n",
    "         label='Fitted exp. function')\n",
    "\n",
    "x_data = np.linspace(0, len(Italy)*1.5, num=len(Italy)*1.5)\n",
    "\n",
    "plt.plot(x_data, log_func(x_data, params_log[0], params_log[1], params_log[2]),\n",
    "         label='Fitted log. function')\n",
    "\n",
    "plt.legend(loc='best')"
   ]
  },
  {
   "cell_type": "code",
   "execution_count": 94,
   "metadata": {},
   "outputs": [],
   "source": [
    "#build inputs for RNN\n",
    "x_inputs = []\n",
    "y_inputs = []\n",
    "indices = list(Italy.index)\n",
    "\n",
    "for i in range(len(indices)-1):\n",
    "    if(i+5<(len(indices)-1)):\n",
    "        if(Italy.iloc[i+5]['total_cases']>0):\n",
    "            x_inputs.append([[Italy.iloc[i]['total_cases']],[Italy.iloc[i+1]['total_cases']],[Italy.iloc[i+2]['total_cases']],[Italy.iloc[i+3]['total_cases']],[Italy.iloc[i+4]['total_cases']]])\n",
    "            y_inputs.append(Italy.iloc[i+5]['total_cases'])\n",
    "        \n",
    "x_inputs = np.asarray(x_inputs)\n",
    "y_inputs = np.asarray(y_inputs)"
   ]
  },
  {
   "cell_type": "code",
   "execution_count": 99,
   "metadata": {},
   "outputs": [],
   "source": [
    "x_inputs_RNN = x_inputs/60000\n",
    "y_inputs_RNN = y_inputs/60000"
   ]
  },
  {
   "cell_type": "code",
   "execution_count": 107,
   "metadata": {},
   "outputs": [
    {
     "name": "stdout",
     "output_type": "stream",
     "text": [
      "Model: \"sequential_21\"\n",
      "_________________________________________________________________\n",
      "Layer (type)                 Output Shape              Param #   \n",
      "=================================================================\n",
      "simple_rnn_32 (SimpleRNN)    (None, 5, 40)             1680      \n",
      "_________________________________________________________________\n",
      "flatten_13 (Flatten)         (None, 200)               0         \n",
      "_________________________________________________________________\n",
      "dense_55 (Dense)             (None, 26)                5226      \n",
      "_________________________________________________________________\n",
      "dense_56 (Dense)             (None, 1)                 27        \n",
      "=================================================================\n",
      "Total params: 6,933\n",
      "Trainable params: 6,933\n",
      "Non-trainable params: 0\n",
      "_________________________________________________________________\n",
      "None\n",
      "Epoch 1/50\n",
      "51/51 [==============================] - 1s 25ms/step - loss: 0.1948\n",
      "Epoch 2/50\n",
      "51/51 [==============================] - 0s 342us/step - loss: 0.1863\n",
      "Epoch 3/50\n",
      "51/51 [==============================] - 0s 376us/step - loss: 0.1778\n",
      "Epoch 4/50\n",
      "51/51 [==============================] - 0s 426us/step - loss: 0.1686\n",
      "Epoch 5/50\n",
      "51/51 [==============================] - 0s 312us/step - loss: 0.1569\n",
      "Epoch 6/50\n",
      "51/51 [==============================] - 0s 327us/step - loss: 0.1459\n",
      "Epoch 7/50\n",
      "51/51 [==============================] - 0s 331us/step - loss: 0.1323\n",
      "Epoch 8/50\n",
      "51/51 [==============================] - 0s 335us/step - loss: 0.1162\n",
      "Epoch 9/50\n",
      "51/51 [==============================] - 0s 324us/step - loss: 0.1011\n",
      "Epoch 10/50\n",
      "51/51 [==============================] - 0s 331us/step - loss: 0.0875\n",
      "Epoch 11/50\n",
      "51/51 [==============================] - 0s 331us/step - loss: 0.0685\n",
      "Epoch 12/50\n",
      "51/51 [==============================] - 0s 351us/step - loss: 0.0590\n",
      "Epoch 13/50\n",
      "51/51 [==============================] - 0s 327us/step - loss: 0.0429\n",
      "Epoch 14/50\n",
      "51/51 [==============================] - 0s 379us/step - loss: 0.0382\n",
      "Epoch 15/50\n",
      "51/51 [==============================] - 0s 295us/step - loss: 0.0340\n",
      "Epoch 16/50\n",
      "51/51 [==============================] - 0s 366us/step - loss: 0.0274\n",
      "Epoch 17/50\n",
      "51/51 [==============================] - 0s 333us/step - loss: 0.0296\n",
      "Epoch 18/50\n",
      "51/51 [==============================] - 0s 338us/step - loss: 0.0287\n",
      "Epoch 19/50\n",
      "51/51 [==============================] - 0s 344us/step - loss: 0.0272\n",
      "Epoch 20/50\n",
      "51/51 [==============================] - 0s 346us/step - loss: 0.0240\n",
      "Epoch 21/50\n",
      "51/51 [==============================] - 0s 349us/step - loss: 0.0130\n",
      "Epoch 22/50\n",
      "51/51 [==============================] - 0s 317us/step - loss: 0.0257\n",
      "Epoch 23/50\n",
      "51/51 [==============================] - 0s 352us/step - loss: 0.0173\n",
      "Epoch 24/50\n",
      "51/51 [==============================] - 0s 319us/step - loss: 0.0092\n",
      "Epoch 25/50\n",
      "51/51 [==============================] - 0s 344us/step - loss: 0.0059\n",
      "Epoch 26/50\n",
      "51/51 [==============================] - 0s 361us/step - loss: 0.0050\n",
      "Epoch 27/50\n",
      "51/51 [==============================] - 0s 349us/step - loss: 0.0052\n",
      "Epoch 28/50\n",
      "51/51 [==============================] - 0s 326us/step - loss: 0.0052\n",
      "Epoch 29/50\n",
      "51/51 [==============================] - 0s 445us/step - loss: 0.0069\n",
      "Epoch 30/50\n",
      "51/51 [==============================] - 0s 352us/step - loss: 0.0132\n",
      "Epoch 31/50\n",
      "51/51 [==============================] - 0s 338us/step - loss: 0.0109\n",
      "Epoch 32/50\n",
      "51/51 [==============================] - 0s 332us/step - loss: 0.0112\n",
      "Epoch 33/50\n",
      "51/51 [==============================] - 0s 328us/step - loss: 0.0049\n",
      "Epoch 34/50\n",
      "51/51 [==============================] - 0s 301us/step - loss: 0.0127\n",
      "Epoch 35/50\n",
      "51/51 [==============================] - 0s 299us/step - loss: 0.0066\n",
      "Epoch 36/50\n",
      "51/51 [==============================] - 0s 344us/step - loss: 0.0152\n",
      "Epoch 37/50\n",
      "51/51 [==============================] - 0s 285us/step - loss: 0.0085\n",
      "Epoch 38/50\n",
      "51/51 [==============================] - 0s 310us/step - loss: 0.0195\n",
      "Epoch 39/50\n",
      "51/51 [==============================] - 0s 347us/step - loss: 0.0064\n",
      "Epoch 40/50\n",
      "51/51 [==============================] - 0s 371us/step - loss: 0.0041\n",
      "Epoch 41/50\n",
      "51/51 [==============================] - 0s 360us/step - loss: 0.0152\n",
      "Epoch 42/50\n",
      "51/51 [==============================] - 0s 344us/step - loss: 0.0114\n",
      "Epoch 43/50\n",
      "51/51 [==============================] - 0s 299us/step - loss: 0.0091\n",
      "Epoch 44/50\n",
      "51/51 [==============================] - 0s 343us/step - loss: 0.0118\n",
      "Epoch 45/50\n",
      "51/51 [==============================] - 0s 368us/step - loss: 0.0092\n",
      "Epoch 46/50\n",
      "51/51 [==============================] - 0s 353us/step - loss: 0.0045\n",
      "Epoch 47/50\n",
      "51/51 [==============================] - 0s 387us/step - loss: 0.0120\n",
      "Epoch 48/50\n",
      "51/51 [==============================] - 0s 362us/step - loss: 0.0161\n",
      "Epoch 49/50\n",
      "51/51 [==============================] - 0s 356us/step - loss: 0.0119\n",
      "Epoch 50/50\n",
      "51/51 [==============================] - 0s 335us/step - loss: 0.0113\n",
      "51/51 [==============================] - 0s 7ms/step\n"
     ]
    }
   ],
   "source": [
    "from keras.layers import SimpleRNN\n",
    "from keras.models import Sequential\n",
    "from keras.layers import Dense\n",
    "from keras.layers import Flatten\n",
    "from keras.layers.embeddings import Embedding\n",
    "\n",
    "import os\n",
    "os.environ['KMP_DUPLICATE_LIB_OK']='True'\n",
    "\n",
    "x_inputs_RNN = x_inputs_RNN.reshape(x_inputs.shape[0],x_inputs.shape[1],1)\n",
    "\n",
    "model_SimpleRNN = Sequential()\n",
    "model_SimpleRNN.add(SimpleRNN(40,input_shape=(5,1), dropout=0.1, recurrent_dropout=0.1, activation='tanh', return_sequences=True)) #return_sequences returns all the outputs of the cells in this case (5 x 5) or only the last one                                                                   \n",
    "model_SimpleRNN.add(Flatten())\n",
    "model_SimpleRNN.add(Dense(26, activation='sigmoid'))\n",
    "model_SimpleRNN.add(Dense(1, activation='sigmoid'))\n",
    "# compile the model                                                                                                                                                                                                                           \n",
    "model_SimpleRNN.compile(optimizer='adam', loss='mean_squared_error')\n",
    "# summarize the model                                                                                                                                                                                                                         \n",
    "print(model_SimpleRNN.summary())\n",
    "# fit the model                                                                                                                                                                                                                               \n",
    "model_SimpleRNN.fit(x_inputs_RNN, y_inputs_RNN, epochs=50, verbose=1)\n",
    "# evaluate the model                                                                                                                                                                                                                          \n",
    "loss = model_SimpleRNN.evaluate(x_inputs_RNN, y_inputs_RNN, verbose=1)"
   ]
  },
  {
   "cell_type": "code",
   "execution_count": 108,
   "metadata": {},
   "outputs": [
    {
     "data": {
      "text/plain": [
       "[<matplotlib.lines.Line2D at 0x1c5d5ca250>]"
      ]
     },
     "execution_count": 108,
     "metadata": {},
     "output_type": "execute_result"
    },
    {
     "data": {
      "image/png": "[encoded data removed]",
      "text/plain": [
       "<Figure size 432x288 with 1 Axes>"
      ]
     },
     "metadata": {
      "needs_background": "light"
     },
     "output_type": "display_data"
    }
   ],
   "source": [
    "#Analysis of new cases\n",
    "new_cases = []\n",
    "indices = list(Italy.index)\n",
    "\n",
    "for i in range(len(indices)-1):\n",
    "    new_cases.append(int(Italy.iloc[i+1]['total_cases'])-int(Italy.iloc[i]['total_cases']))\n",
    "        \n",
    "new_cases = np.asarray(new_cases)\n",
    "x_data = np.linspace(0, len(Italy)-1, num=len(Italy)-1)\n",
    "\n",
    "plt.plot(x_data, new_cases, \n",
    "         label='New cases', color='k',marker='o')"
   ]
  },
  {
   "cell_type": "code",
   "execution_count": 109,
   "metadata": {},
   "outputs": [
    {
     "data": {
      "text/plain": [
       "<matplotlib.legend.Legend at 0x1c5da7cc50>"
      ]
     },
     "execution_count": 109,
     "metadata": {},
     "output_type": "execute_result"
    },
    {
     "data": {
      "image/png": "[encoded data removed]",
      "text/plain": [
       "<Figure size 432x288 with 1 Axes>"
      ]
     },
     "metadata": {
      "needs_background": "light"
     },
     "output_type": "display_data"
    }
   ],
   "source": [
    "predictions = model_SimpleRNN.predict(x_inputs_RNN) * 60000\n",
    "x_data = np.linspace(0, len(Italy), num=len(Italy))\n",
    "\n",
    "plt.plot(x_data, log_func(x_data, params_log[0], params_log[1], params_log[2]),\n",
    "         label='Fitted log. function')\n",
    "\n",
    "difference = len(Italy) - len(predictions)\n",
    "\n",
    "x_data = np.linspace(difference, len(predictions)+difference, num=len(predictions))\n",
    "plt.plot(x_data, predictions-predictions[0], label=\"DNN predictions\")\n",
    "\n",
    "plt.legend(loc='best')"
   ]
  },
  {
   "cell_type": "code",
   "execution_count": 12,
   "metadata": {},
   "outputs": [],
   "source": [
    "def calculate_r2(y, y_fit):\n",
    "    # residual sum of squares\n",
    "    ss_res = np.sum((y - y_fit) ** 2)\n",
    "    \n",
    "    # total sum of squares\n",
    "    ss_tot = np.sum((y - np.mean(y)) ** 2)\n",
    "\n",
    "    # r-squared\n",
    "    r2 = 1 - (ss_res / ss_tot)\n",
    "\n",
    "    print(r2)"
   ]
  },
  {
   "cell_type": "code",
   "execution_count": 13,
   "metadata": {},
   "outputs": [
    {
     "name": "stdout",
     "output_type": "stream",
     "text": [
      "0.9969708143573154\n"
     ]
    }
   ],
   "source": [
    "calculate_r2(Italy['total_cases'],exp_func(x_data, params_exp[0], params_exp[1], params_exp[2]))"
   ]
  },
  {
   "cell_type": "code",
   "execution_count": 14,
   "metadata": {},
   "outputs": [
    {
     "name": "stdout",
     "output_type": "stream",
     "text": [
      "0.9988876938561271\n"
     ]
    }
   ],
   "source": [
    "calculate_r2(Italy['total_cases'],log_func(x_data, params_log[0], params_log[1], params_log[2]))"
   ]
  },
  {
   "cell_type": "code",
   "execution_count": 15,
   "metadata": {},
   "outputs": [],
   "source": [
    "def fit_and_plot(country, china_bool=False):\n",
    "\n",
    "    x_data = np.linspace(0, len(country), num=len(country))\n",
    "\n",
    "    params_exp = []\n",
    "\n",
    "    if(china_bool):\n",
    "        print(params_exp)\n",
    "    else:\n",
    "        params_exp, params_covariance_exp = optimize.curve_fit(exp_func, x_data,country['total_cases'],\n",
    "                                                       p0=[0.1, 0.1, 0.1])\n",
    "    \n",
    "    #print(params_exp)\n",
    "    #print(params_covariance_exp)\n",
    "    \n",
    "    params_log, params_covariance_log = optimize.curve_fit(log_func, x_data,country['total_cases'],\n",
    "                                               p0=[3.0, 0.1, 0.1])\n",
    "\n",
    "    #print(params_log)\n",
    "    #print(params_covariance_log)\n",
    "    \n",
    "    return params_exp,params_log,x_data"
   ]
  },
  {
   "cell_type": "code",
   "execution_count": 16,
   "metadata": {},
   "outputs": [
    {
     "name": "stderr",
     "output_type": "stream",
     "text": [
      "/Users/gunnep/opt/anaconda3/lib/python3.7/site-packages/scipy/optimize/minpack.py:795: OptimizeWarning: Covariance of the parameters could not be estimated\n",
      "  category=OptimizeWarning)\n"
     ]
    },
    {
     "data": {
      "text/plain": [
       "<matplotlib.legend.Legend at 0x1c22a7e8d0>"
      ]
     },
     "execution_count": 16,
     "metadata": {},
     "output_type": "execute_result"
    },
    {
     "data": {
      "image/png": "[encoded data removed]",
      "text/plain": [
       "<Figure size 432x288 with 1 Axes>"
      ]
     },
     "metadata": {
      "needs_background": "light"
     },
     "output_type": "display_data"
    }
   ],
   "source": [
    "params_exp,params_log,x_data = fit_and_plot(Germany)\n",
    "\n",
    "plt.figure(figsize=(6, 4))\n",
    "plt.scatter(x_data, Germany['total_cases'], label='Data Germany')\n",
    "plt.plot(x_data, exp_func(x_data, params_exp[0], params_exp[1], params_exp[2]),\n",
    "                 label='Fitted exp. function')\n",
    "\n",
    "plt.plot(x_data, log_func(x_data, params_log[0], params_log[1], params_log[2]),\n",
    "                 label='Fitted log. function')\n",
    "\n",
    "plt.legend(loc='best')"
   ]
  },
  {
   "cell_type": "code",
   "execution_count": 17,
   "metadata": {},
   "outputs": [
    {
     "name": "stdout",
     "output_type": "stream",
     "text": [
      "0.9933336552940492\n",
      "-2.220446049250313e-16\n"
     ]
    }
   ],
   "source": [
    "calculate_r2(Germany['total_cases'],exp_func(x_data, params_exp[0], params_exp[1], params_exp[2]))\n",
    "    \n",
    "calculate_r2(Germany['total_cases'],log_func(x_data, params_log[0], params_log[1], params_log[2]))"
   ]
  },
  {
   "cell_type": "code",
   "execution_count": 18,
   "metadata": {},
   "outputs": [
    {
     "name": "stdout",
     "output_type": "stream",
     "text": [
      "[]\n"
     ]
    },
    {
     "name": "stderr",
     "output_type": "stream",
     "text": [
      "/Users/gunnep/opt/anaconda3/lib/python3.7/site-packages/ipykernel_launcher.py:2: RuntimeWarning: overflow encountered in exp\n",
      "  \n"
     ]
    },
    {
     "data": {
      "text/plain": [
       "<matplotlib.legend.Legend at 0x1c22b79890>"
      ]
     },
     "execution_count": 18,
     "metadata": {},
     "output_type": "execute_result"
    },
    {
     "data": {
      "image/png": "[encoded data removed]",
      "text/plain": [
       "<Figure size 432x288 with 1 Axes>"
      ]
     },
     "metadata": {
      "needs_background": "light"
     },
     "output_type": "display_data"
    }
   ],
   "source": [
    "params_exp,params_log,x_data = fit_and_plot(China, True)\n",
    "\n",
    "plt.figure(figsize=(6, 4))\n",
    "plt.scatter(x_data, China['total_cases'], label='Data China')\n",
    "\n",
    "plt.plot(x_data, log_func(x_data, params_log[0], params_log[1], params_log[2]),\n",
    "                 label='Fitted log. function')\n",
    "\n",
    "plt.legend(loc='best')"
   ]
  },
  {
   "cell_type": "code",
   "execution_count": 19,
   "metadata": {},
   "outputs": [
    {
     "name": "stdout",
     "output_type": "stream",
     "text": [
      "0.9982729786107419\n"
     ]
    }
   ],
   "source": [
    "calculate_r2(China['total_cases'],log_func(x_data, params_log[0], params_log[1], params_log[2]))"
   ]
  },
  {
   "cell_type": "code",
   "execution_count": 20,
   "metadata": {},
   "outputs": [
    {
     "ename": "RuntimeError",
     "evalue": "Optimal parameters not found: Number of calls to function has reached maxfev = 800.",
     "output_type": "error",
     "traceback": [
      "\u001b[0;31m---------------------------------------------------------------------------\u001b[0m",
      "\u001b[0;31mRuntimeError\u001b[0m                              Traceback (most recent call last)",
      "\u001b[0;32m<ipython-input-20-b7aeb76f9341>\u001b[0m in \u001b[0;36m<module>\u001b[0;34m\u001b[0m\n\u001b[0;32m----> 1\u001b[0;31m \u001b[0mparams_exp\u001b[0m\u001b[0;34m,\u001b[0m\u001b[0mparams_log\u001b[0m\u001b[0;34m,\u001b[0m\u001b[0mx_data\u001b[0m \u001b[0;34m=\u001b[0m \u001b[0mfit_and_plot\u001b[0m\u001b[0;34m(\u001b[0m\u001b[0mKorea\u001b[0m\u001b[0;34m)\u001b[0m\u001b[0;34m\u001b[0m\u001b[0;34m\u001b[0m\u001b[0m\n\u001b[0m\u001b[1;32m      2\u001b[0m \u001b[0;34m\u001b[0m\u001b[0m\n\u001b[1;32m      3\u001b[0m \u001b[0mplt\u001b[0m\u001b[0;34m.\u001b[0m\u001b[0mfigure\u001b[0m\u001b[0;34m(\u001b[0m\u001b[0mfigsize\u001b[0m\u001b[0;34m=\u001b[0m\u001b[0;34m(\u001b[0m\u001b[0;36m6\u001b[0m\u001b[0;34m,\u001b[0m \u001b[0;36m4\u001b[0m\u001b[0;34m)\u001b[0m\u001b[0;34m)\u001b[0m\u001b[0;34m\u001b[0m\u001b[0;34m\u001b[0m\u001b[0m\n\u001b[1;32m      4\u001b[0m \u001b[0mplt\u001b[0m\u001b[0;34m.\u001b[0m\u001b[0mscatter\u001b[0m\u001b[0;34m(\u001b[0m\u001b[0mx_data\u001b[0m\u001b[0;34m,\u001b[0m \u001b[0mKorea\u001b[0m\u001b[0;34m[\u001b[0m\u001b[0;34m'total_cases'\u001b[0m\u001b[0;34m]\u001b[0m\u001b[0;34m,\u001b[0m \u001b[0mlabel\u001b[0m\u001b[0;34m=\u001b[0m\u001b[0;34m'Data Korea'\u001b[0m\u001b[0;34m)\u001b[0m\u001b[0;34m\u001b[0m\u001b[0;34m\u001b[0m\u001b[0m\n\u001b[1;32m      5\u001b[0m \u001b[0;34m\u001b[0m\u001b[0m\n",
      "\u001b[0;32m<ipython-input-15-9d483de1e6b8>\u001b[0m in \u001b[0;36mfit_and_plot\u001b[0;34m(country, china_bool)\u001b[0m\n\u001b[1;32m      9\u001b[0m     \u001b[0;32melse\u001b[0m\u001b[0;34m:\u001b[0m\u001b[0;34m\u001b[0m\u001b[0;34m\u001b[0m\u001b[0m\n\u001b[1;32m     10\u001b[0m         params_exp, params_covariance_exp = optimize.curve_fit(exp_func, x_data,country['total_cases'],\n\u001b[0;32m---> 11\u001b[0;31m                                                        p0=[0.1, 0.1, 0.1])\n\u001b[0m\u001b[1;32m     12\u001b[0m \u001b[0;34m\u001b[0m\u001b[0m\n\u001b[1;32m     13\u001b[0m     \u001b[0;31m#print(params_exp)\u001b[0m\u001b[0;34m\u001b[0m\u001b[0;34m\u001b[0m\u001b[0;34m\u001b[0m\u001b[0m\n",
      "\u001b[0;32m~/opt/anaconda3/lib/python3.7/site-packages/scipy/optimize/minpack.py\u001b[0m in \u001b[0;36mcurve_fit\u001b[0;34m(f, xdata, ydata, p0, sigma, absolute_sigma, check_finite, bounds, method, jac, **kwargs)\u001b[0m\n\u001b[1;32m    754\u001b[0m         \u001b[0mcost\u001b[0m \u001b[0;34m=\u001b[0m \u001b[0mnp\u001b[0m\u001b[0;34m.\u001b[0m\u001b[0msum\u001b[0m\u001b[0;34m(\u001b[0m\u001b[0minfodict\u001b[0m\u001b[0;34m[\u001b[0m\u001b[0;34m'fvec'\u001b[0m\u001b[0;34m]\u001b[0m \u001b[0;34m**\u001b[0m \u001b[0;36m2\u001b[0m\u001b[0;34m)\u001b[0m\u001b[0;34m\u001b[0m\u001b[0;34m\u001b[0m\u001b[0m\n\u001b[1;32m    755\u001b[0m         \u001b[0;32mif\u001b[0m \u001b[0mier\u001b[0m \u001b[0;32mnot\u001b[0m \u001b[0;32min\u001b[0m \u001b[0;34m[\u001b[0m\u001b[0;36m1\u001b[0m\u001b[0;34m,\u001b[0m \u001b[0;36m2\u001b[0m\u001b[0;34m,\u001b[0m \u001b[0;36m3\u001b[0m\u001b[0;34m,\u001b[0m \u001b[0;36m4\u001b[0m\u001b[0;34m]\u001b[0m\u001b[0;34m:\u001b[0m\u001b[0;34m\u001b[0m\u001b[0;34m\u001b[0m\u001b[0m\n\u001b[0;32m--> 756\u001b[0;31m             \u001b[0;32mraise\u001b[0m \u001b[0mRuntimeError\u001b[0m\u001b[0;34m(\u001b[0m\u001b[0;34m\"Optimal parameters not found: \"\u001b[0m \u001b[0;34m+\u001b[0m \u001b[0merrmsg\u001b[0m\u001b[0;34m)\u001b[0m\u001b[0;34m\u001b[0m\u001b[0;34m\u001b[0m\u001b[0m\n\u001b[0m\u001b[1;32m    757\u001b[0m     \u001b[0;32melse\u001b[0m\u001b[0;34m:\u001b[0m\u001b[0;34m\u001b[0m\u001b[0;34m\u001b[0m\u001b[0m\n\u001b[1;32m    758\u001b[0m         \u001b[0;31m# Rename maxfev (leastsq) to max_nfev (least_squares), if specified.\u001b[0m\u001b[0;34m\u001b[0m\u001b[0;34m\u001b[0m\u001b[0;34m\u001b[0m\u001b[0m\n",
      "\u001b[0;31mRuntimeError\u001b[0m: Optimal parameters not found: Number of calls to function has reached maxfev = 800."
     ]
    }
   ],
   "source": [
    "params_exp,params_log,x_data = fit_and_plot(Korea)\n",
    "\n",
    "plt.figure(figsize=(6, 4))\n",
    "plt.scatter(x_data, Korea['total_cases'], label='Data Korea')\n",
    "\n",
    "plt.plot(x_data, log_func(x_data, params_log[0], params_log[1], params_log[2]),\n",
    "                 label='Fitted log. function')\n",
    "\n",
    "plt.plot(x_data, exp_func(x_data, params_exp[0], params_exp[1], params_exp[2]),\n",
    "                 label='Fitted exp. function')\n",
    "\n",
    "plt.legend(loc='best')"
   ]
  },
  {
   "cell_type": "code",
   "execution_count": 186,
   "metadata": {},
   "outputs": [
    {
     "name": "stdout",
     "output_type": "stream",
     "text": [
      "0.9430237052146274\n",
      "0.9992102593697357\n"
     ]
    }
   ],
   "source": [
    "calculate_r2(Korea['total_cases'],exp_func(x_data, params_exp[0], params_exp[1], params_exp[2]))\n",
    "    \n",
    "calculate_r2(Korea['total_cases'],log_func(x_data, params_log[0], params_log[1], params_log[2]))"
   ]
  },
  {
   "cell_type": "code",
   "execution_count": null,
   "metadata": {},
   "outputs": [],
   "source": []
  }
 ],
 "metadata": {
  "kernelspec": {
   "display_name": "Python 3",
   "language": "python",
   "name": "python3"
  },
  "language_info": {
   "codemirror_mode": {
    "name": "ipython",
    "version": 3
   },
   "file_extension": ".py",
   "mimetype": "text/x-python",
   "name": "python",
   "nbconvert_exporter": "python",
   "pygments_lexer": "ipython3",
   "version": "3.7.4"
  }
 },
 "nbformat": 4,
 "nbformat_minor": 2
}
